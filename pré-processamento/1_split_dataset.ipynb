{
 "cells": [
  {
   "cell_type": "code",
   "execution_count": 0,
   "metadata": {
    "application/vnd.databricks.v1+cell": {
     "cellMetadata": {
      "byteLimit": 2048000,
      "rowLimit": 10000
     },
     "inputWidgets": {},
     "nuid": "438041e9-81e1-4050-b467-00f5aa3ed827",
     "showTitle": false,
     "tableResultSettingsMap": {},
     "title": ""
    }
   },
   "outputs": [],
   "source": [
    "import os\n",
    "import random\n",
    "\n",
    "# Diretório com as imagens originais (Volume Databricks)\n",
    "# Caminho fornecido: /Volumes/workspace/tcc-panoramic-dental-dataset/radiografias-recortadas\n",
    "IMAGE_DIR = \"/Volumes/workspace/tcc-panoramic-dental-dataset/radiografias-recortadas\"\n",
    "\n",
    "# Caminho base para o novo volume onde os splits serão salvos\n",
    "# Assumindo que você deseja salvá-los em um novo volume 'radiografia_splits'\n",
    "# dentro do mesmo catálogo e schema 'workspace'\n",
    "OUTPUT_BASE_DIR = \"/Volumes/workspace/tcc-panoramic-dental-dataset/radiografia-splits\"\n",
    "\n",
    "# Caminhos dos arquivos de saída com os splits (dentro do novo volume)\n",
    "OUTPUT_DIR = os.path.join(OUTPUT_BASE_DIR, \"metadata\") # Subdiretório 'metadata'\n",
    "TRAIN_SPLIT_FILE = os.path.join(OUTPUT_DIR, \"train_split.txt\")\n",
    "VAL_SPLIT_FILE = os.path.join(OUTPUT_DIR, \"val_split.txt\")\n",
    "TEST_SPLIT_FILE = os.path.join(OUTPUT_DIR, \"test_split.txt\")\n",
    "\n",
    "# Proporções\n",
    "train_ratio = 0.7\n",
    "val_ratio = 0.15\n",
    "test_ratio = 0.15\n",
    "\n",
    "def main():\n",
    "    # Verifica se o diretório de imagens de entrada existe\n",
    "    if not os.path.exists(IMAGE_DIR):\n",
    "        print(f\"Erro: O diretório de imagens não foi encontrado em '{IMAGE_DIR}'.\")\n",
    "        print(\"Por favor, verifique se o caminho está correto e se as imagens foram carregadas.\")\n",
    "        return\n",
    "\n",
    "    # Lista todas as imagens .png da pasta\n",
    "    images = [f for f in os.listdir(IMAGE_DIR) if f.endswith(\".png\")]\n",
    "    images.sort()  # para manter determinístico antes do shuffle\n",
    "    random.seed(42)\n",
    "    random.shuffle(images)\n",
    "\n",
    "    total = len(images)\n",
    "    if total == 0:\n",
    "        print(f\"Nenhuma imagem .png encontrada no diretório: {IMAGE_DIR}\")\n",
    "        return\n",
    "\n",
    "    train_end = int(total * train_ratio)\n",
    "    val_end = train_end + int(total * val_ratio)\n",
    "\n",
    "    train_images = images[:train_end]\n",
    "    val_images = images[train_end:val_end]\n",
    "    test_images = images[val_end:]\n",
    "\n",
    "    # Cria o diretório de saída se ele não existir (no Volume)\n",
    "    os.makedirs(OUTPUT_DIR, exist_ok=True)\n",
    "\n",
    "    # Salva os nomes dos arquivos (sem caminho)\n",
    "    with open(TRAIN_SPLIT_FILE, \"w\") as f:\n",
    "        f.write(\"\\n\".join(train_images))\n",
    "    with open(VAL_SPLIT_FILE, \"w\") as f:\n",
    "        f.write(\"\\n\".join(val_images))\n",
    "    with open(TEST_SPLIT_FILE, \"w\") as f:\n",
    "        f.write(\"\\n\".join(test_images))\n",
    "\n",
    "    print(f\"✅ Split concluído com sucesso. Arquivos de split salvos em: {OUTPUT_DIR}\")\n",
    "    print(f\"  Treinamento: {len(train_images)} imagens\")\n",
    "    print(f\"  Validação:  {len(val_images)} imagens\")\n",
    "    print(f\"  Teste:       {len(test_images)} imagens\")\n",
    "\n",
    "if __name__ == \"__main__\":\n",
    "    main()"
   ]
  }
 ],
 "metadata": {
  "application/vnd.databricks.v1+notebook": {
   "computePreferences": null,
   "dashboards": [],
   "environmentMetadata": {
    "base_environment": "",
    "environment_version": "2"
   },
   "inputWidgetPreferences": null,
   "language": "python",
   "notebookMetadata": {
    "pythonIndentUnit": 4
   },
   "notebookName": "1_split_dataset",
   "widgets": {}
  },
  "language_info": {
   "name": "python"
  }
 },
 "nbformat": 4,
 "nbformat_minor": 0
}
