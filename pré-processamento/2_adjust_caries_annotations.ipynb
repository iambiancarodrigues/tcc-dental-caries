{
 "cells": [
  {
   "cell_type": "code",
   "execution_count": 0,
   "metadata": {
    "application/vnd.databricks.v1+cell": {
     "cellMetadata": {
      "byteLimit": 2048000,
      "rowLimit": 10000
     },
     "inputWidgets": {},
     "nuid": "711d6cb3-f3f0-4b3c-acf1-45653176a916",
     "showTitle": false,
     "tableResultSettingsMap": {},
     "title": ""
    }
   },
   "outputs": [],
   "source": [
    "import os\n",
    "\n",
    "# Dimensões (mantidas as mesmas do seu script original)\n",
    "WIDTH_A, HEIGHT_A = 2943, 1435\n",
    "WIDTH_B, HEIGHT_B = 1536, 768\n",
    "\n",
    "# Deslocamento (recorte centralizado)\n",
    "offset_x = (WIDTH_A - WIDTH_B) / 2\n",
    "offset_y = (HEIGHT_A - HEIGHT_B) / 2\n",
    "\n",
    "# Diretórios nos Volumes do Databricks\n",
    "# Diretório de anotações originais (entrada)\n",
    "DIR_CARIES_ORIG = \"/Volumes/workspace/tcc-panoramic-dental-dataset/anotacoes-caries\"\n",
    "# Diretório para anotações ajustadas (saída)\n",
    "DIR_CARIES_ADJUSTED = \"/Volumes/workspace/tcc-panoramic-dental-dataset/anotacoes-caries-ajustadas\"\n",
    "\n",
    "# Cria o diretório de saída se ele não existir no Volume\n",
    "os.makedirs(DIR_CARIES_ADJUSTED, exist_ok=True)\n",
    "print(f\"Diretório de entrada: {DIR_CARIES_ORIG}\")\n",
    "print(f\"Diretório de saída: {DIR_CARIES_ADJUSTED}\")\n",
    "\n",
    "# Processamento dos arquivos de anotação\n",
    "if os.path.exists(DIR_CARIES_ORIG):\n",
    "    for filename in os.listdir(DIR_CARIES_ORIG):\n",
    "        if not filename.endswith(\".txt\"):\n",
    "            continue\n",
    "\n",
    "        input_path = os.path.join(DIR_CARIES_ORIG, filename)\n",
    "        output_path = os.path.join(DIR_CARIES_ADJUSTED, filename)\n",
    "\n",
    "        try:\n",
    "            with open(input_path, \"r\") as infile, open(output_path, \"w\") as outfile:\n",
    "                for line in infile:\n",
    "                    coords = line.strip().split()\n",
    "                    if len(coords) != 4:\n",
    "                        print(f\"Aviso: Linha inválida em {filename}: '{line.strip()}' - Ignorando.\")\n",
    "                        continue\n",
    "\n",
    "                    x_min, y_min, x_max, y_max = map(float, coords)\n",
    "\n",
    "                    # Ajusta com o deslocamento do recorte centralizado\n",
    "                    x_min += offset_x\n",
    "                    x_max += offset_x\n",
    "                    y_min += offset_y\n",
    "                    y_max += offset_y\n",
    "\n",
    "                    adjusted_line = f\"{x_min:.6f} {y_min:.6f} {x_max:.6f} {y_max:.6f}\\n\"\n",
    "                    outfile.write(adjusted_line)\n",
    "            print(f\"Processado: {filename}\")\n",
    "        except Exception as e:\n",
    "            print(f\"Erro ao processar {filename}: {e}\")\n",
    "else:\n",
    "    print(f\"Erro: O diretório de anotações originais não foi encontrado em '{DIR_CARIES_ORIG}'.\")\n",
    "    print(\"Por favor, verifique se o caminho está correto e se os arquivos foram carregados.\")\n",
    "\n",
    "print(\"\\n✅ Anotações ajustadas com deslocamento centralizado salvas em:\", DIR_CARIES_ADJUSTED)"
   ]
  }
 ],
 "metadata": {
  "application/vnd.databricks.v1+notebook": {
   "computePreferences": null,
   "dashboards": [],
   "environmentMetadata": {
    "base_environment": "",
    "environment_version": "2"
   },
   "inputWidgetPreferences": null,
   "language": "python",
   "notebookMetadata": {
    "pythonIndentUnit": 4
   },
   "notebookName": "2_adjust_caries_annotations",
   "widgets": {}
  },
  "language_info": {
   "name": "python"
  }
 },
 "nbformat": 4,
 "nbformat_minor": 0
}
