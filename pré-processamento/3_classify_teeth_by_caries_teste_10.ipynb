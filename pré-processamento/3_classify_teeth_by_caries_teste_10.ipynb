{
 "cells": [
  {
   "cell_type": "code",
   "execution_count": 0,
   "metadata": {
    "application/vnd.databricks.v1+cell": {
     "cellMetadata": {
      "byteLimit": 2048000,
      "rowLimit": 10000
     },
     "inputWidgets": {},
     "nuid": "c70a8f56-23f1-4d6a-b979-070153069c16",
     "showTitle": false,
     "tableResultSettingsMap": {},
     "title": ""
    }
   },
   "outputs": [],
   "source": [
    "import cv2\n",
    "from pathlib import Path\n",
    "\n",
    "# Caminhos base\n",
    "image_dir = Path(\"/Volumes/workspace/tcc-panoramic-dental-dataset/radiografias-originais\")\n",
    "teeth_bbox_dir = Path(\"/Volumes/workspace/tcc-panoramic-dental-dataset/anotacoes-dentes\")\n",
    "caries_bbox_dir = Path(\"/Volumes/workspace/tcc-panoramic-dental-dataset/anotacoes-caries-ajustadas\")\n",
    "split_path = Path(\"/Volumes/workspace/tcc-panoramic-dental-dataset/radiografia-splits/metadata/teste_split.txt\")\n",
    "\n",
    "# Diretórios de saída\n",
    "output_dir = Path(\"/Volumes/workspace/tcc-panoramic-dental-dataset/radiografias-teste-10\")\n",
    "com_dir = output_dir / \"com_carie\"\n",
    "sem_dir = output_dir / \"sem_carie\"\n",
    "com_dir.mkdir(parents=True, exist_ok=True)\n",
    "sem_dir.mkdir(parents=True, exist_ok=True)\n",
    "\n",
    "# Função para carregar bounding boxes\n",
    "def load_bboxes(txt_path):\n",
    "    bboxes = []\n",
    "    if not txt_path.exists():\n",
    "        return bboxes\n",
    "    with open(txt_path, \"r\") as file:\n",
    "        for line in file:\n",
    "            x_min, y_min, x_max, y_max = map(int, map(float, line.strip().split()))\n",
    "            bboxes.append((x_min, y_min, x_max, y_max))\n",
    "    return bboxes\n",
    "\n",
    "# Função para verificar interseção\n",
    "def has_intersection(boxA, boxB):\n",
    "    ax1, ay1, ax2, ay2 = boxA\n",
    "    bx1, by1, bx2, by2 = boxB\n",
    "    return max(ax1, bx1) < min(ax2, bx2) and max(ay1, by1) < min(ay2, by2)\n",
    "\n",
    "# Ler split\n",
    "with open(split_path, \"r\") as f:\n",
    "    valid_ids = {line.strip().replace(\".png\", \"\") for line in f}\n",
    "\n",
    "# Processar apenas imagens do split\n",
    "for image_path in image_dir.glob(\"*.png\"):\n",
    "    image_id = image_path.stem  # ex: \"714\"\n",
    "\n",
    "    if image_id not in valid_ids:\n",
    "        continue\n",
    "\n",
    "    teeth_bbox_path = teeth_bbox_dir / f\"{image_id}.txt\"\n",
    "    caries_bbox_path = caries_bbox_dir / f\"{image_id}.txt\"\n",
    "\n",
    "    image = cv2.imread(str(image_path))\n",
    "    if image is None:\n",
    "        print(f\"[AVISO] Não foi possível ler a imagem {image_path}\")\n",
    "        continue\n",
    "\n",
    "    teeth_bboxes = load_bboxes(teeth_bbox_path)\n",
    "    caries_bboxes = load_bboxes(caries_bbox_path)\n",
    "\n",
    "    for idx, tooth_bbox in enumerate(teeth_bboxes):\n",
    "        x1, y1, x2, y2 = tooth_bbox\n",
    "        tooth_crop = image[y1:y2, x1:x2]\n",
    "\n",
    "        has_caries = any(has_intersection(tooth_bbox, caries_bbox) for caries_bbox in caries_bboxes)\n",
    "\n",
    "        output_path = com_dir if has_caries else sem_dir\n",
    "        filename = f\"{image_id}_tooth_{idx:02d}.png\"\n",
    "        cv2.imwrite(str(output_path / filename), tooth_crop)\n",
    "\n",
    "print(\"✅ Recortes do teste_10_split classificados com sucesso!\")"
   ]
  }
 ],
 "metadata": {
  "application/vnd.databricks.v1+notebook": {
   "computePreferences": null,
   "dashboards": [],
   "environmentMetadata": {
    "base_environment": "",
    "environment_version": "2"
   },
   "inputWidgetPreferences": null,
   "language": "python",
   "notebookMetadata": {
    "pythonIndentUnit": 4
   },
   "notebookName": "3_classify_teeth_by_caries_teste_10",
   "widgets": {}
  },
  "language_info": {
   "name": "python"
  }
 },
 "nbformat": 4,
 "nbformat_minor": 0
}
