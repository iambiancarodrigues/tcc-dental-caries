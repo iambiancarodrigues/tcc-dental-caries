{
 "cells": [
  {
   "cell_type": "code",
   "execution_count": 0,
   "metadata": {
    "application/vnd.databricks.v1+cell": {
     "cellMetadata": {
      "byteLimit": 2048000,
      "rowLimit": 10000
     },
     "inputWidgets": {},
     "nuid": "801b6cc6-bdf8-434c-b753-5544261afc2a",
     "showTitle": false,
     "tableResultSettingsMap": {},
     "title": ""
    }
   },
   "outputs": [],
   "source": [
    "from PIL import Image\n",
    "import numpy as np \n",
    "import os\n",
    "import matplotlib.pyplot as plt\n",
    "import random\n",
    "import tensorflow as tf\n",
    "from tensorflow.keras.preprocessing.image import ImageDataGenerator"
   ]
  },
  {
   "cell_type": "code",
   "execution_count": 0,
   "metadata": {
    "application/vnd.databricks.v1+cell": {
     "cellMetadata": {
      "byteLimit": 2048000,
      "rowLimit": 10000
     },
     "inputWidgets": {},
     "nuid": "24f41539-ae44-43f5-b7fb-637cd3d6db65",
     "showTitle": false,
     "tableResultSettingsMap": {},
     "title": ""
    }
   },
   "outputs": [],
   "source": [
    "# Caminho dos diretórios com as imagens\n",
    "com_carie_dir = \"/Volumes/workspace/tcc-panoramic-dental-dataset/radiografias-teste-10/com_carie/\"\n",
    "sem_carie_dir = \"/Volumes/workspace/tcc-panoramic-dental-dataset/radiografias-teste-10/sem_carie/\""
   ]
  },
  {
   "cell_type": "code",
   "execution_count": 0,
   "metadata": {
    "application/vnd.databricks.v1+cell": {
     "cellMetadata": {
      "byteLimit": 2048000,
      "rowLimit": 10000
     },
     "inputWidgets": {},
     "nuid": "4b6df0ec-af19-425f-9721-a5f2e710b611",
     "showTitle": false,
     "tableResultSettingsMap": {},
     "title": ""
    }
   },
   "outputs": [],
   "source": [
    "# Diretório de saída para as imagens aumentadas no Volume\n",
    "OUTPUT_AUGMENTED_CARIES_DIR = \"/Volumes/workspace/tcc-panoramic-dental-dataset/radiografias-teste-10/com_carie_augmented/\"\n",
    "\n",
    "# Diretório de saída se ele não existir\n",
    "os.makedirs(OUTPUT_AUGMENTED_CARIES_DIR, exist_ok=True)\n",
    "print(f\"Diretório para imagens aumentadas: {OUTPUT_AUGMENTED_CARIES_DIR}\")"
   ]
  },
  {
   "cell_type": "code",
   "execution_count": 0,
   "metadata": {
    "application/vnd.databricks.v1+cell": {
     "cellMetadata": {
      "byteLimit": 2048000,
      "rowLimit": 10000
     },
     "inputWidgets": {},
     "nuid": "d5710183-3e8e-4789-9637-f95126ccf192",
     "showTitle": false,
     "tableResultSettingsMap": {},
     "title": ""
    }
   },
   "outputs": [],
   "source": [
    "# Lista de arquivos de imagem\n",
    "com_carie_files = [f for f in os.listdir(com_carie_dir) if f.endswith('.png')]\n",
    "sem_carie_files = [f for f in os.listdir(sem_carie_dir) if f.endswith('.png')]\n",
    "\n",
    "print(\"\\n--- Quantidade de arquivos ---\")\n",
    "print(f\"Total de arquivos com cárie: {len(com_carie_files)}\")\n",
    "print(f\"Total de arquivos sem cárie: {len(sem_carie_files)}\")"
   ]
  },
  {
   "cell_type": "code",
   "execution_count": 0,
   "metadata": {
    "application/vnd.databricks.v1+cell": {
     "cellMetadata": {
      "byteLimit": 2048000,
      "rowLimit": 10000
     },
     "inputWidgets": {},
     "nuid": "c0102cf8-de4a-4789-a799-0fb0fdfb7177",
     "showTitle": false,
     "tableResultSettingsMap": {},
     "title": ""
    }
   },
   "outputs": [],
   "source": [
    "# Função para carregar e redimensionar as imagens em memória\n",
    "def load_and_resize_images(image_paths, target_size=(128, 128)):\n",
    "    images = []\n",
    "    for image_path in image_paths:\n",
    "        try:\n",
    "            img = Image.open(image_path).convert('RGB') # Garante 3 canais, se a imagem for P/B\n",
    "            img_resized = img.resize(target_size)\n",
    "            images.append(np.array(img_resized))  # Converter para array NumPy\n",
    "        except FileNotFoundError:\n",
    "            print(f\"Aviso: Arquivo não encontrado - {image_path}. Ignorando.\")\n",
    "        except Exception as e:\n",
    "            print(f\"Erro ao carregar ou redimensionar {image_path}: {e}\")\n",
    "    return np.array(images)"
   ]
  },
  {
   "cell_type": "code",
   "execution_count": 0,
   "metadata": {
    "application/vnd.databricks.v1+cell": {
     "cellMetadata": {
      "byteLimit": 2048000,
      "rowLimit": 10000
     },
     "inputWidgets": {},
     "nuid": "d5bacfb8-45a6-4f6e-8263-a48a2cd44edd",
     "showTitle": false,
     "tableResultSettingsMap": {},
     "title": ""
    }
   },
   "outputs": [],
   "source": [
    "# Carregar e redimensionar as imagens\n",
    "images_com_carie = load_and_resize_images([os.path.join(com_carie_dir, f) for f in com_carie_files])\n",
    "images_sem_carie = load_and_resize_images([os.path.join(sem_carie_dir, f) for f in sem_carie_files])"
   ]
  },
  {
   "cell_type": "code",
   "execution_count": 0,
   "metadata": {
    "application/vnd.databricks.v1+cell": {
     "cellMetadata": {
      "byteLimit": 2048000,
      "rowLimit": 10000
     },
     "inputWidgets": {},
     "nuid": "77bc1191-d96e-4752-b223-c6fd565910c7",
     "showTitle": false,
     "tableResultSettingsMap": {},
     "title": ""
    }
   },
   "outputs": [],
   "source": [
    "# Mostrar o shape das imagens carregadas e redimensionadas\n",
    "print(f\"Shape das imagens com cárie: {images_com_carie.shape}\")\n",
    "print(f\"Shape das imagens sem cárie: {images_sem_carie.shape}\")"
   ]
  },
  {
   "cell_type": "code",
   "execution_count": 0,
   "metadata": {
    "application/vnd.databricks.v1+cell": {
     "cellMetadata": {
      "byteLimit": 2048000,
      "rowLimit": 10000
     },
     "inputWidgets": {},
     "nuid": "99a036b1-b901-4748-a67e-804e8c51e76c",
     "showTitle": false,
     "tableResultSettingsMap": {},
     "title": ""
    }
   },
   "outputs": [],
   "source": [
    "# Função para Normalização das imagens\n",
    "def normalize_images(images):\n",
    "    # Divide os valores de pixel por 255 para normalizar para o intervalo [0, 1]\n",
    "    return images / 255.0"
   ]
  },
  {
   "cell_type": "code",
   "execution_count": 0,
   "metadata": {
    "application/vnd.databricks.v1+cell": {
     "cellMetadata": {
      "byteLimit": 2048000,
      "rowLimit": 10000
     },
     "inputWidgets": {},
     "nuid": "b1ce426a-58cf-4509-99ea-507a7d461f7a",
     "showTitle": false,
     "tableResultSettingsMap": {},
     "title": ""
    }
   },
   "outputs": [],
   "source": [
    "# Normalizando as imagens de treinamento\n",
    "images_com_carie = normalize_images(images_com_carie)\n",
    "images_sem_carie = normalize_images(images_sem_carie)"
   ]
  },
  {
   "cell_type": "code",
   "execution_count": 0,
   "metadata": {
    "application/vnd.databricks.v1+cell": {
     "cellMetadata": {
      "byteLimit": 2048000,
      "rowLimit": 10000
     },
     "inputWidgets": {},
     "nuid": "cc767377-2968-48dc-a76c-8a38f9cfb21b",
     "showTitle": false,
     "tableResultSettingsMap": {},
     "title": ""
    }
   },
   "outputs": [],
   "source": [
    "# Verificando as shapes após normalização\n",
    "print(f\"Shape das imagens com cárie após normalização: {images_com_carie.shape}\")\n",
    "print(f\"Shape das imagens sem cárie após normalização: {images_sem_carie.shape}\")"
   ]
  },
  {
   "cell_type": "code",
   "execution_count": 0,
   "metadata": {
    "application/vnd.databricks.v1+cell": {
     "cellMetadata": {
      "byteLimit": 2048000,
      "rowLimit": 10000
     },
     "inputWidgets": {},
     "nuid": "56abe104-31f3-4f18-82cd-ba6d7dce8a87",
     "showTitle": false,
     "tableResultSettingsMap": {},
     "title": ""
    }
   },
   "outputs": [],
   "source": [
    "# Salvar as imagens normalizadas em memória para o passo seguinte\n",
    "X_train_original = np.concatenate((images_com_carie, images_sem_carie), axis=0)\n",
    "y_train_original = np.concatenate((np.ones(len(images_com_carie)), np.zeros(len(images_sem_carie))), axis=0)"
   ]
  },
  {
   "cell_type": "code",
   "execution_count": 0,
   "metadata": {
    "application/vnd.databricks.v1+cell": {
     "cellMetadata": {
      "byteLimit": 2048000,
      "rowLimit": 10000
     },
     "inputWidgets": {},
     "nuid": "4bc9d74d-c6c6-49c8-88a2-0637a889ea59",
     "showTitle": false,
     "tableResultSettingsMap": {},
     "title": ""
    }
   },
   "outputs": [],
   "source": [
    "print(f\"X_train_original shape: {X_train_original.shape}\")\n",
    "print(f\"y_train_original shape: {y_train_original.shape}\")"
   ]
  },
  {
   "cell_type": "code",
   "execution_count": 0,
   "metadata": {
    "application/vnd.databricks.v1+cell": {
     "cellMetadata": {
      "byteLimit": 2048000,
      "rowLimit": 10000
     },
     "inputWidgets": {},
     "nuid": "da94c540-a534-485b-9bb3-b33c426a441e",
     "showTitle": false,
     "tableResultSettingsMap": {},
     "title": ""
    }
   },
   "outputs": [],
   "source": [
    "# Inicializando o gerador de Data Augmentation\n",
    "datagen = ImageDataGenerator(\n",
    "    rotation_range=20,       # Rotação aleatória entre -20 e 20 graus\n",
    "    width_shift_range=0.2,   # Deslocamento horizontal de até 20%\n",
    "    height_shift_range=0.2,  # Deslocamento vertical de até 20%\n",
    "    shear_range=0.2,         # Cisalhamento\n",
    "    zoom_range=0.2,          # Zoom aleatório\n",
    "    horizontal_flip=True,    # Flip horizontal\n",
    "    fill_mode='nearest'      # Preenchimento de pixels ao transformar a imagem\n",
    ")"
   ]
  },
  {
   "cell_type": "code",
   "execution_count": 0,
   "metadata": {
    "application/vnd.databricks.v1+cell": {
     "cellMetadata": {
      "byteLimit": 2048000,
      "rowLimit": 10000
     },
     "inputWidgets": {},
     "nuid": "76e847a0-de9c-4cfb-ad51-e375e5ddcf0b",
     "showTitle": false,
     "tableResultSettingsMap": {},
     "title": ""
    }
   },
   "outputs": [],
   "source": [
    "# Definir número de imagens que queremos gerar (equalizando com o número de \"sem cárie\")\n",
    "num_images_to_generate = len(images_sem_carie) - len(images_com_carie)\n",
    "\n",
    "print(f\"Número de imagens adicionais 'com cárie' a serem geradas: {num_images_to_generate}\")"
   ]
  },
  {
   "cell_type": "code",
   "execution_count": 0,
   "metadata": {
    "application/vnd.databricks.v1+cell": {
     "cellMetadata": {
      "byteLimit": 2048000,
      "rowLimit": 10000
     },
     "inputWidgets": {},
     "nuid": "001c0ad4-0f96-429d-99f3-468c17f30a8a",
     "showTitle": false,
     "tableResultSettingsMap": {},
     "title": ""
    }
   },
   "outputs": [],
   "source": [
    "# Gerando e salvando as imagens aumentadas diretamente no Volume do Databricks\n",
    "print(\"Iniciando geração e salvamento de imagens aumentadas...\")\n",
    "images_generated_count = 0\n",
    "\n",
    "# O loop abaixo itera sobre cada imagem individualmente para gerar aumentações dela.\n",
    "for image_idx, image in enumerate(images_com_carie):\n",
    "    if images_generated_count >= num_images_to_generate:\n",
    "        break # Para de gerar se o objetivo de imagens foi atingido\n",
    "\n",
    "    # Reshape para (1, altura, largura, canais) para o datagen.flow de uma única imagem\n",
    "    img_for_flow = np.expand_dims(image, axis=0)\n",
    "\n",
    "    # Gerando as imagens com augmentation e SALVANDO DIRETAMENTE no Volume do Databricks\n",
    "    for batch in datagen.flow(img_for_flow, batch_size=1,\n",
    "                              save_to_dir=OUTPUT_AUGMENTED_CARIES_DIR,\n",
    "                              save_prefix='com_carie_aug',\n",
    "                              save_format='png'):\n",
    "        images_generated_count += 1\n",
    "        if images_generated_count % 100 == 0:\n",
    "            print(f\"Geradas e salvas: {images_generated_count} imagens...\")\n",
    "        if images_generated_count >= num_images_to_generate:\n",
    "            break\n",
    "\n",
    "print(f\"\\n✅ Total de imagens com cárie aumentadas geradas e salvas no disco: {images_generated_count}\")"
   ]
  },
  {
   "cell_type": "code",
   "execution_count": 0,
   "metadata": {
    "application/vnd.databricks.v1+cell": {
     "cellMetadata": {
      "byteLimit": 2048000,
      "rowLimit": 10000
     },
     "inputWidgets": {},
     "nuid": "7937d279-4804-46fe-9e6b-aa4ceda8af6b",
     "showTitle": false,
     "tableResultSettingsMap": {},
     "title": ""
    }
   },
   "outputs": [],
   "source": [
    "# Diretório temporário para o treinamento que unifique as pastas\n",
    "TARGET_TRAIN_DIR = \"/Volumes/workspace/tcc-panoramic-dental-dataset/dataset-treinamento-unificado/\"\n",
    "TARGET_TRAIN_COM_CARIE_DIR = os.path.join(TARGET_TRAIN_DIR, \"com_carie\")\n",
    "TARGET_TRAIN_SEM_CARIE_DIR = os.path.join(TARGET_TRAIN_DIR, \"sem_carie\")\n",
    "\n",
    "os.makedirs(TARGET_TRAIN_COM_CARIE_DIR, exist_ok=True)\n",
    "os.makedirs(TARGET_TRAIN_SEM_CARIE_DIR, exist_ok=True)\n",
    "\n",
    "# Copiar imagens originais 'com_carie' para a pasta unificada\n",
    "print(\"Copiando imagens 'com_carie' originais para o diretório unificado...\")\n",
    "for f in com_carie_files:\n",
    "    # Usar 'cp -f' para forçar a cópia se o arquivo já existir\n",
    "    os.system(f\"cp -f {os.path.join(com_carie_dir, f)} {os.path.join(TARGET_TRAIN_COM_CARIE_DIR, f)}\")"
   ]
  },
  {
   "cell_type": "code",
   "execution_count": 0,
   "metadata": {
    "application/vnd.databricks.v1+cell": {
     "cellMetadata": {
      "byteLimit": 2048000,
      "rowLimit": 10000
     },
     "inputWidgets": {},
     "nuid": "67362911-1de9-474a-9f46-74c95f1355fc",
     "showTitle": false,
     "tableResultSettingsMap": {},
     "title": ""
    }
   },
   "outputs": [],
   "source": [
    "# Copiar imagens aumentadas 'com_carie_augmented' para a pasta unificada\n",
    "print(\"Copiando imagens 'com_carie' aumentadas para o diretório unificado...\")\n",
    "augmented_files = [f for f in os.listdir(OUTPUT_AUGMENTED_CARIES_DIR) if f.startswith('com_carie_aug')]\n",
    "for f in augmented_files:\n",
    "    os.system(f\"cp -f {os.path.join(OUTPUT_AUGMENTED_CARIES_DIR, f)} {os.path.join(TARGET_TRAIN_COM_CARIE_DIR, f)}\")\n",
    "\n",
    "# Copiar imagens 'sem_carie' originais para a pasta unificada\n",
    "print(\"Copiando imagens 'sem_carie' originais para o diretório unificado...\")\n",
    "for f in sem_carie_files:\n",
    "    os.system(f\"cp -f {os.path.join(sem_carie_dir, f)} {os.path.join(TARGET_TRAIN_SEM_CARIE_DIR, f)}\")\n",
    "\n",
    "print(\"\\nEstrutura de diretórios para treinamento pronta.\")"
   ]
  },
  {
   "cell_type": "code",
   "execution_count": 0,
   "metadata": {
    "application/vnd.databricks.v1+cell": {
     "cellMetadata": {
      "byteLimit": 2048000,
      "rowLimit": 10000
     },
     "inputWidgets": {},
     "nuid": "6457f99d-ab74-4067-89d6-3a84fc626e18",
     "showTitle": false,
     "tableResultSettingsMap": {},
     "title": ""
    }
   },
   "outputs": [],
   "source": [
    "# Verificar o número final de imagens nas pastas\n",
    "print(f\"Total de imagens 'com_carie' no diretório unificado: {len(os.listdir(TARGET_TRAIN_COM_CARIE_DIR))}\")\n",
    "print(f\"Total de imagens 'sem_carie' no diretório unificado: {len(os.listdir(TARGET_TRAIN_SEM_CARIE_DIR))}\")"
   ]
  }
 ],
 "metadata": {
  "application/vnd.databricks.v1+notebook": {
   "computePreferences": null,
   "dashboards": [],
   "environmentMetadata": {
    "base_environment": "",
    "environment_version": "2"
   },
   "inputWidgetPreferences": null,
   "language": "python",
   "notebookMetadata": {
    "pythonIndentUnit": 4
   },
   "notebookName": "4_nb_redimens_normal_data_aug",
   "widgets": {}
  },
  "language_info": {
   "name": "python"
  }
 },
 "nbformat": 4,
 "nbformat_minor": 0
}
